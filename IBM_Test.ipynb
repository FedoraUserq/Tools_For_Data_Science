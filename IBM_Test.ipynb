{
 "cells": [
  {
   "cell_type": "markdown",
   "id": "2706d960",
   "metadata": {},
   "source": [
    "<h1> IBM_Test </h1>"
   ]
  },
  {
   "cell_type": "markdown",
   "id": "6ed68669",
   "metadata": {},
   "source": [
    "In this Jupyter Notebook I present to us exercize to course Tools for Data Science"
   ]
  },
  {
   "cell_type": "markdown",
   "id": "88186195",
   "metadata": {},
   "source": [
    "Some of the popular languages that Data Scientists use are:\n",
    "<ul>\n",
    " <li>Python</li>\n",
    " <li>SQL</li>\n",
    " <li>R</li>\n",
    " <li>Julia</li>\n",
    " <li>Scala</li>\n",
    " <li>Java</li>\n",
    "</ul>"
   ]
  },
  {
   "cell_type": "markdown",
   "id": "e8ee35dd",
   "metadata": {},
   "source": [
    "Some of the commonly used libraries used by Data Scientists include: \n",
    "<ul>\n",
    "    <li>NumPy</li>\n",
    "    <li>Pandas</li> \n",
    "    <li>PyTorch</li>\n",
    "</ul>"
   ]
  },
  {
   "cell_type": "markdown",
   "id": "6912a8f5",
   "metadata": {},
   "source": [
    "| Data Sience Tools |\n",
    "| ------- |\n",
    "| IBM SPSS |\n",
    "| Jupyter Notebook |\n",
    "| Apache Spark |\n"
   ]
  },
  {
   "cell_type": "markdown",
   "id": "bf66e6a2",
   "metadata": {},
   "source": [
    "<h3> Below are a few examples of evaluating arithmetic expressions in Python:</h3>"
   ]
  },
  {
   "cell_type": "code",
   "execution_count": 3,
   "id": "95c5fd3e",
   "metadata": {},
   "outputs": [
    {
     "data": {
      "text/plain": [
       "17"
      ]
     },
     "execution_count": 3,
     "metadata": {},
     "output_type": "execute_result"
    }
   ],
   "source": [
    "# This a simple arithmetic expression to mutiply then add integers\n",
    "(3*4)+5"
   ]
  },
  {
   "cell_type": "code",
   "execution_count": 4,
   "id": "535a1784",
   "metadata": {},
   "outputs": [
    {
     "data": {
      "text/plain": [
       "3.33"
      ]
     },
     "execution_count": 4,
     "metadata": {},
     "output_type": "execute_result"
    }
   ],
   "source": [
    "# This cells change 200 min to h by diving by 60 and rounds them two places after the comma\n",
    "round (200 / 60, 2)"
   ]
  },
  {
   "cell_type": "markdown",
   "id": "1b24fda7",
   "metadata": {},
   "source": [
    "<b>Objectives:</b>\n",
    "<ul>\n",
    "    <li>Popular languages that Data Scientists</li>\n",
    "    <li>Commonly used libraries used by Data Scientists include</li>\n",
    "    <li>Data Sience Tools</li>\n",
    "    <li>Few examples of evaluating arithmetic expressions in Python</li>\n",
    "    </ul>"
   ]
  },
  {
   "cell_type": "markdown",
   "id": "5b6febbf",
   "metadata": {},
   "source": [
    "<h2>Author</h2>\n",
    "Oskar Wiśniewski"
   ]
  }
 ],
 "metadata": {
  "kernelspec": {
   "display_name": "Python 3 (ipykernel)",
   "language": "python",
   "name": "python3"
  },
  "language_info": {
   "codemirror_mode": {
    "name": "ipython",
    "version": 3
   },
   "file_extension": ".py",
   "mimetype": "text/x-python",
   "name": "python",
   "nbconvert_exporter": "python",
   "pygments_lexer": "ipython3",
   "version": "3.9.13"
  }
 },
 "nbformat": 4,
 "nbformat_minor": 5
}
